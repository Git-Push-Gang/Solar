{
 "cells": [
  {
   "cell_type": "code",
   "execution_count": 2,
   "metadata": {},
   "outputs": [],
   "source": [
    "from google.oauth2 import service_account\n",
    "from googleapiclient.discovery import build\n",
    "\n",
    "# 서비스 계정 키 파일 경로\n",
    "SERVICE_ACCOUNT_FILE = 'C:\\\\Upstage\\\\data\\\\service-account-file.json'\n",
    "\n",
    "# 필요한 범위 설정 (Google Drive API 사용)\n",
    "SCOPES = ['https://www.googleapis.com/auth/drive.readonly']\n",
    "\n",
    "# 서비스 계정 자격 증명 설정\n",
    "credentials = service_account.Credentials.from_service_account_file(\n",
    "        SERVICE_ACCOUNT_FILE, scopes=SCOPES)\n",
    "\n",
    "# Google Drive API 클라이언트 생성\n",
    "drive_service = build('drive', 'v3', credentials=credentials)\n",
    "\n",
    "# Google Docs API 클라이언트 생성\n",
    "docs_service = build('docs', 'v1', credentials=credentials)\n"
   ]
  },
  {
   "cell_type": "code",
   "execution_count": 3,
   "metadata": {},
   "outputs": [
    {
     "name": "stdout",
     "output_type": "stream",
     "text": [
      "Files in the folder:\n",
      "File ID: 12vsfbMFkzT1iJQLfaKTg86l3JHdTlrG5jeOqfVGdN88, File Name: 철없는 펜션 \n",
      "File ID: 151xJmE31UgdjP5nIkJ9tqCTngxvSxNuK7BfWX2lKuqs, File Name: 유채꽃프라자 \n",
      "File ID: 1D428qqxiv55_TFeo9oo97QDcz0S1w3MAuQXIVRMr69c, File Name: 월랑소운 \n",
      "File ID: 1-85qjQ_f0yT4-3xr_CW2lz4C7-RVoWEcJIN57P75aWs, File Name: 오름게스트하우스 \n",
      "File ID: 19jaj1XVzFxP2QAta-VpBXCo4huTZdIyRTBrf8F_MoKU, File Name: 에드타임:가시 \n",
      "File ID: 1wT7Zc4R6dcE129yljocM8mx-83YFAd9ln3bQacGVv0g, File Name: 스테이 여정 \n",
      "File ID: 1VdBE3LxtuV59UhH7AjqulhdAhm_Doge19e8PNQ1jHis, File Name: 세화밖거리 \n",
      "File ID: 1SzZawPDLT3GwzStUixMJEKNmhPv9TW16sx1iJgWgE9I, File Name: 세화리움 \n",
      "File ID: 1FZf4i-7jJl5wEdnK1vyEgbJzmX-DiqR7xBEIE2JVZJU, File Name: 사계절펜션(더포시즌빌라) \n",
      "File ID: 1xWkL8ZVT4DhTZGyvsDS9pl3l_USGGJNaYDYXXuJbltY, File Name: 밤편지 \n",
      "File ID: 1P-XxWi9j8xldTMSm6t3WEAhUQK46pgmFY_iPqldO4Qk, File Name: 미미어스제주 \n",
      "File ID: 17FDuNlkTwJKO17qqXXzg4-2QtOvLWdJ9PIN3OW2ERjg, File Name: 미드나잇코티지 \n",
      "File ID: 1BBfXwgHmwmF70SZAnsUtcPpx8m5aW43hnwe4jIwhjys, File Name: 몬딱게스트하우스 \n",
      "File ID: 133L4Xyl_JGU1M8iSlnIiHZvBD7ul7-ssjbThzgUgclM, File Name: 목하(木下) \n",
      "File ID: 19NeV7txOqfCHVaCfDdncVzJQvbKdd7vLeAoLYsvsSz8, File Name: 마음스테이 \n",
      "File ID: 1A0E8Rp0_EXgL7fJMI2u3x8GaalQIjSxojEO8sJv3rww, File Name: 로만토피아 \n",
      "File ID: 1XABqpejsljlKRteAwpVNiOS9fqq-Hlt5eXmXla-AjeU, File Name: 돌집조앤정 \n",
      "File ID: 1kRwpkkQ31QHjR3L2uynSZ6HktPdXhdPsGHO4wJ_DW-w, File Name: 다복다복 \n",
      "File ID: 1VhE-lNsIIwwRRoeWTMQfwTXJlD2P8o-HIIn3R1yHW10, File Name: 글라드 세화 \n",
      "File ID: 1lJyFxA2x0jl85fmMZaSzAxU4sW8J4u4CxO4VmHK8dW8, File Name: 구르미별동 \n",
      "File ID: 1fDPFm43PR2-EF70hZaNHd3ZYNzEBZtojrBiwxPGmUXI, File Name: 괜찮아 게스트하우스   \n",
      "File ID: 1DOpLq0F4KcLMZKvAO-uLPX-M1d8uXMfdAAx4kG_X6nM, File Name: 가시리애 \n",
      "File ID: 1fiuIa7t4tRPoh8-PO6Ee4xP5NUZnwbSXuWYjefQam_w, File Name: 가시리 유채꽃길 \n",
      "File ID: 1xRUH94Dqj9tnES6fvmSUwuevLwXYvGi7Lae0lYMb53E, File Name: oh세화 \n"
     ]
    }
   ],
   "source": [
    "# 폴더 ID 입력 (조사할 폴더 ID)\n",
    "FOLDER_ID = '1TzU3PJ3FjZZKbOKIsqKqCNfUqxHUwlZz'  # 여기에 폴더 ID 입력\n",
    "\n",
    "# 폴더 내 파일 리스트 가져오기\n",
    "results = drive_service.files().list(\n",
    "    q=f\"'{FOLDER_ID}' in parents\",\n",
    "    pageSize=1000,  # 최대 1000개의 파일을 한 번에 가져옴\n",
    "    fields=\"files(id, name)\").execute()\n",
    "\n",
    "# 파일 리스트에서 파일 ID 추출\n",
    "files = results.get('files', [])\n",
    "\n",
    "if not files:\n",
    "    print('No files found in the folder.')\n",
    "else:\n",
    "    print('Files in the folder:')\n",
    "    for file in files:\n",
    "        print(f\"File ID: {file.get('id')}, File Name: {file.get('name')}\")"
   ]
  }
 ],
 "metadata": {
  "kernelspec": {
   "display_name": "please",
   "language": "python",
   "name": "python3"
  },
  "language_info": {
   "codemirror_mode": {
    "name": "ipython",
    "version": 3
   },
   "file_extension": ".py",
   "mimetype": "text/x-python",
   "name": "python",
   "nbconvert_exporter": "python",
   "pygments_lexer": "ipython3",
   "version": "3.9.19"
  }
 },
 "nbformat": 4,
 "nbformat_minor": 2
}
