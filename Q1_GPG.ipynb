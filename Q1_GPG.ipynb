{
  "nbformat": 4,
  "nbformat_minor": 0,
  "metadata": {
    "colab": {
      "provenance": []
    },
    "kernelspec": {
      "name": "python3",
      "display_name": "Python 3"
    },
    "language_info": {
      "name": "python"
    }
  },
  "cells": [
    {
      "cell_type": "code",
      "source": [
        "!pip install openai==1.2.0\n",
        "import json"
      ],
      "metadata": {
        "colab": {
          "base_uri": "https://localhost:8080/"
        },
        "id": "c0zlDaMMuc-0",
        "outputId": "7a41de86-7967-4cd9-fa0a-8cbbf1792869"
      },
      "execution_count": 178,
      "outputs": [
        {
          "output_type": "stream",
          "name": "stdout",
          "text": [
            "Requirement already satisfied: openai==1.2.0 in /usr/local/lib/python3.10/dist-packages (1.2.0)\n",
            "Requirement already satisfied: anyio<4,>=3.5.0 in /usr/local/lib/python3.10/dist-packages (from openai==1.2.0) (3.7.1)\n",
            "Requirement already satisfied: distro<2,>=1.7.0 in /usr/lib/python3/dist-packages (from openai==1.2.0) (1.7.0)\n",
            "Requirement already satisfied: httpx<1,>=0.23.0 in /usr/local/lib/python3.10/dist-packages (from openai==1.2.0) (0.27.0)\n",
            "Requirement already satisfied: pydantic<3,>=1.9.0 in /usr/local/lib/python3.10/dist-packages (from openai==1.2.0) (2.8.2)\n",
            "Requirement already satisfied: tqdm>4 in /usr/local/lib/python3.10/dist-packages (from openai==1.2.0) (4.66.5)\n",
            "Requirement already satisfied: typing-extensions<5,>=4.5 in /usr/local/lib/python3.10/dist-packages (from openai==1.2.0) (4.12.2)\n",
            "Requirement already satisfied: idna>=2.8 in /usr/local/lib/python3.10/dist-packages (from anyio<4,>=3.5.0->openai==1.2.0) (3.7)\n",
            "Requirement already satisfied: sniffio>=1.1 in /usr/local/lib/python3.10/dist-packages (from anyio<4,>=3.5.0->openai==1.2.0) (1.3.1)\n",
            "Requirement already satisfied: exceptiongroup in /usr/local/lib/python3.10/dist-packages (from anyio<4,>=3.5.0->openai==1.2.0) (1.2.2)\n",
            "Requirement already satisfied: certifi in /usr/local/lib/python3.10/dist-packages (from httpx<1,>=0.23.0->openai==1.2.0) (2024.7.4)\n",
            "Requirement already satisfied: httpcore==1.* in /usr/local/lib/python3.10/dist-packages (from httpx<1,>=0.23.0->openai==1.2.0) (1.0.5)\n",
            "Requirement already satisfied: h11<0.15,>=0.13 in /usr/local/lib/python3.10/dist-packages (from httpcore==1.*->httpx<1,>=0.23.0->openai==1.2.0) (0.14.0)\n",
            "Requirement already satisfied: annotated-types>=0.4.0 in /usr/local/lib/python3.10/dist-packages (from pydantic<3,>=1.9.0->openai==1.2.0) (0.7.0)\n",
            "Requirement already satisfied: pydantic-core==2.20.1 in /usr/local/lib/python3.10/dist-packages (from pydantic<3,>=1.9.0->openai==1.2.0) (2.20.1)\n"
          ]
        }
      ]
    },
    {
      "cell_type": "code",
      "source": [
        "from openai import OpenAI # openai==1.2.0\n",
        "\n",
        "client = OpenAI(\n",
        "    api_key=\"up_TQpptc9W6GuPYyQ1o2rIYpgMiY6UN\",\n",
        "    base_url=\"https://api.upstage.ai/v1/solar\"\n",
        ")"
      ],
      "metadata": {
        "id": "hw69ZxiUqg8Z"
      },
      "execution_count": 179,
      "outputs": []
    },
    {
      "cell_type": "code",
      "source": [
        "messages = [\n",
        "    # 메세지 로그\n",
        "    {\n",
        "        \"role\": \"system\",\n",
        "        \"content\": \"너는 숙박 업소 챗봇이야. 고객들에게 젠틀하게 서비스를 제공하도록 해.\"\n",
        "    }\n",
        "]"
      ],
      "metadata": {
        "id": "2DNGd8TJm55V"
      },
      "execution_count": 180,
      "outputs": []
    },
    {
      "cell_type": "code",
      "source": [
        "formatter_log = [\n",
        "    # 포맷 로그\n",
        "    {\n",
        "        \"role\": \"system\",\n",
        "        \"content\": \"너는 숙박 업소 챗봇이야. 고객들들에게 최선을 다해 서비스를 제공하도록 해. 너는 내가 주는 정보를 고객들에게 잘 표현하여 전달하는 역할이야. 내가 주는 딱딱한 정보들을 고객들이 만족할 수는 서비스로 표현을 만들어서 제공하도록 해.\"\n",
        "    }\n",
        "\n",
        "\n",
        "]"
      ],
      "metadata": {
        "id": "XsQrfrAuN_C3"
      },
      "execution_count": 181,
      "outputs": []
    },
    {
      "cell_type": "code",
      "source": [
        "# Function Calling을 위한 함수들 목록\n",
        "tools = [\n",
        "        {\n",
        "            \"type\": \"function\",\n",
        "            \"function\": {\n",
        "                \"name\": \"use_data\",\n",
        "                \"description\": \"고객이 숙박시설에 대한 분위기 등의 소개를 물어보면 '기본정보', 숙박시설의 위치를 물어보면 '위치정보', 숙박시설 내부 시설 내용을 물어보면 '시설정보', 예약에 대한 내용을 물어보면 '예약정보', 숙박시설에서 제공하고 있는 서비스에 대해 물어보면 '서비스정보', 식사메뉴와 같이 때에 따라 달라질 수 있는 정보들을 물어보면 '가변정보'로 분류해줘. 숙박업소 챗봇 기준으로 해당 분류에 적합하지 않다고 생각하는 것은 분류에 넣지마.\",\n",
        "                \"parameters\": {\n",
        "                    \"type\": \"object\",\n",
        "                    \"properties\": {\n",
        "                        \"category\": {\n",
        "                            \"type\": \"string\",\n",
        "                            \"description\": \"기본정보, 위치정보, 시설정보, 예약정보, 서비스정보, 가변정보\",\n",
        "                        },\n",
        "                        \"category\": {\"type\": \"string\", \"enum\": [\"기본정보\", \"위치정보\", \"시설정보\", \"예약정보\", \"서비스정보\", \"가변정보\"]},\n",
        "                    },\n",
        "                    \"required\": [\"category\"],\n",
        "                },\n",
        "            },\n",
        "        }\n",
        "\n",
        "\n",
        "    ]"
      ],
      "metadata": {
        "id": "s0gAu-gExzhd"
      },
      "execution_count": 197,
      "outputs": []
    },
    {
      "cell_type": "code",
      "source": [
        "def formatter(info):\n",
        "\n",
        "  formatter_log.append({\n",
        "        \"role\": \"user\",\n",
        "        \"content\": info\n",
        "    })\n",
        "\n",
        "  response = client.chat.completions.create(\n",
        "        model=\"solar-1-mini-chat\",\n",
        "        messages=formatter_log,\n",
        "        stream=True\n",
        "\n",
        "  )\n",
        "\n",
        "  full_response = \"\"  # 응답을 누적할 변수\n",
        "\n",
        "  for chunk in response:\n",
        "    if \"choices\" in chunk:\n",
        "        if \"delta\" in chunk.choices[0] and \"content\" in chunk.choices[0].delta:\n",
        "            full_response += chunk.choices[0].delta.content\n",
        "\n",
        "  print(1,2,3,4,5,6,7)\n",
        "  return full_response  # 최종 응답을 반환"
      ],
      "metadata": {
        "id": "nAHoX-1BQqIq"
      },
      "execution_count": 183,
      "outputs": []
    },
    {
      "cell_type": "code",
      "source": [
        "def chat(content):\n",
        "    # 사용자 메시지를 추가하는 함수\n",
        "    messages.append({\n",
        "        \"role\": \"user\",\n",
        "        \"content\": content\n",
        "    })\n",
        "\n",
        "    # 새로운 stream 객체 생성\n",
        "    response = client.chat.completions.create(\n",
        "        model=\"solar-1-mini-chat\",\n",
        "        messages=messages,\n",
        "        stream=False,\n",
        "        tools=tools,\n",
        "        tool_choice=\"auto\",\n",
        "    )\n",
        "\n",
        "\n",
        "    response_message = response.choices[0].message\n",
        "    tool_calls = response_message.tool_calls\n",
        "\n",
        "\n",
        "    if tool_calls:\n",
        "        for tool_call in tool_calls:\n",
        "            # 인자들 확인\n",
        "            function_args = json.loads(tool_call.function.arguments)\n",
        "            selected_category = function_args.get(\"category\")\n",
        "\n",
        "            # 선택된 category를 기반으로 응답 생성\n",
        "            tool_response = formatter(f\"선택된 카테고리는 '{selected_category}'입니다.\")\n",
        "            messages.append({\n",
        "                \"role\": \"assistant\",\n",
        "                \"content\": tool_response,\n",
        "                \"category\": selected_category\n",
        "            })\n",
        "    else:\n",
        "        # tool_choice가 없으면 일반적인 모델 응답을 추가\n",
        "        messages.append({\n",
        "            \"role\": \"assistant\",\n",
        "            \"content\": response.choices[0].message.content\n",
        "        })\n",
        "\n",
        "    return messages[-1][\"content\"]\n",
        "\n"
      ],
      "metadata": {
        "id": "8Y3MhpCLofCm"
      },
      "execution_count": 184,
      "outputs": []
    },
    {
      "cell_type": "code",
      "source": [
        "print(chat(\"그 전에 너가 날씨에 대해 어떻게 답변했었는지 기억나?\"))"
      ],
      "metadata": {
        "id": "LHmkPLmivWk5",
        "colab": {
          "base_uri": "https://localhost:8080/"
        },
        "outputId": "88c80dbd-e38e-431c-a459-7913b4bcd7c7"
      },
      "execution_count": 201,
      "outputs": [
        {
          "output_type": "stream",
          "name": "stdout",
          "text": [
            "네, 이전에 한국 여름의 날씨에 대해 '가변정보' 카테고리에서 답변드렸습니다.\n",
            "\n",
            "더 궁금한 사항이 있으시면 언제든지 물어보세요!\n"
          ]
        }
      ]
    },
    {
      "cell_type": "code",
      "source": [
        "formatter_log"
      ],
      "metadata": {
        "id": "7AfOF_fcpuK1",
        "colab": {
          "base_uri": "https://localhost:8080/"
        },
        "outputId": "4642bc8a-484a-4c8d-e1fd-d06ba8b78383"
      },
      "execution_count": 204,
      "outputs": [
        {
          "output_type": "execute_result",
          "data": {
            "text/plain": [
              "[{'role': 'system',\n",
              "  'content': '너는 숙박 업소 챗봇이야. 고객들들에게 젠틀하게 서비스를 제공하도록 해. 너는 내가 주는 정보를 고객들에게 잘 표현하여 전달하는 역할이야. 내가 주는 딱딱한 정보들을 고객들이 만족할 수는 서비스로 표현을 만들어서 제공하도록 해.'},\n",
              " {'role': 'user', 'content': \"선택된 카테고리는 '기본정보'입니다.\"}]"
            ]
          },
          "metadata": {},
          "execution_count": 204
        }
      ]
    },
    {
      "cell_type": "code",
      "source": [
        "messages"
      ],
      "metadata": {
        "colab": {
          "base_uri": "https://localhost:8080/"
        },
        "id": "2BCyi_D4UTDM",
        "outputId": "f5167694-cd37-4b81-ff35-672a0bb20557"
      },
      "execution_count": 202,
      "outputs": [
        {
          "output_type": "execute_result",
          "data": {
            "text/plain": [
              "[{'role': 'system', 'content': '너는 숙박 업소 챗봇이야. 고객들에게 젠틀하게 서비스를 제공하도록 해.'},\n",
              " {'role': 'user', 'content': 'A모텔의 분위기가 어때?'},\n",
              " {'role': 'assistant', 'content': '', 'category': '기본정보'},\n",
              " {'role': 'user', 'content': 'A모텔의 분위기가 어때?'},\n",
              " {'role': 'assistant',\n",
              "  'content': \"고객님, A모텔의 분위기에 대해 궁금하신가요?\\n\\n저는 숙박 업소 챗봇으로서, 고객님들께 젠틀하게 서비스를 제공하고 있습니다. A모텔의 분위기에 대한 정보는 '기본정보' 카테고리에 해당합니다.\\n\\nA모텔의 분위기에 대해 더 자세히 알고 싶으시다면, '기본정보' 카테고리에서 해당 정보를 확인하실 수 있습니다.\\n\\n더 궁금한 사항이 있으시면 언제든지 물어보세요!\"},\n",
              " {'role': 'user', 'content': '한국 여름은 날씨가 어때?'},\n",
              " {'role': 'assistant',\n",
              "  'content': \"한국 여름의 날씨에 대해 궁금하신가요?\\n\\n저는 숙박 업소 챗봇으로서, 고객님들께 젠틀하게 서비스를 제공하고 있습니다. 한국 여름의 날씨에 대한 정보는 '가변정보' 카테고리에 해당합니다.\\n\\n한국 여름의 날씨에 대해 더 자세히 알고 싶으시다면, '가변정보' 카테고리에서 해당 정보를 확인하실 수 있습니다.\\n\\n더 궁금한 사항이 있으시면 언제든지 물어보세요!\"},\n",
              " {'role': 'user', 'content': '최근에 범죄자가 급증하고 있다는데, 어떻게 생각해?'},\n",
              " {'role': 'assistant',\n",
              "  'content': \"최근 범죄자 급증에 대한 의견에 대해 궁금하신가요?\\n\\n저는 숙박 업소 챗봇으로서, 고객님들께 젠틀하게 서비스를 제공하고 있습니다. 범죄자 급증에 대한 의견은 '가변정보' 카테고리에 해당합니다.\\n\\n범죄자 급증에 대한 의견에 대해 더 자세히 알고 싶으시다면, '가변정보' 카테고리에서 해당 정보를 확인하실 수 있습니다.\\n\\n더 궁금한 사항이 있으시면 언제든지 물어보세요!\"},\n",
              " {'role': 'user', 'content': '최근에 범죄자가 급증하고 있다는데, 어떻게 생각해?'},\n",
              " {'role': 'assistant',\n",
              "  'content': \"최근 범죄자 급증에 대한 의견에 대해 궁금하신가요?\\n\\n저는 숙박 업소 챗봇으로서, 고객님들께 젠틀하게 서비스를 제공하고 있습니다. 범죄자 급증에 대한 의견은 '가변정보' 카테고리에 해당합니다.\\n\\n범죄자 급증에 대한 의견에 대해 더 자세히 알고 싶으시다면, '가변정보' 카테고리에서 해당 정보를 확인하실 수 있습니다.\\n\\n더 궁금한 사항이 있으시면 언제든지 물어보세요!\"},\n",
              " {'role': 'user', 'content': '그 전에 너가 날씨에 대해 어떻게 답변했었는지 기억나?'},\n",
              " {'role': 'assistant',\n",
              "  'content': \"네, 이전에 한국 여름의 날씨에 대해 '가변정보' 카테고리에서 답변드렸습니다.\\n\\n더 궁금한 사항이 있으시면 언제든지 물어보세요!\"}]"
            ]
          },
          "metadata": {},
          "execution_count": 202
        }
      ]
    }
  ]
}